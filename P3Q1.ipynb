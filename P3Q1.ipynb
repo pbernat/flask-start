{
 "cells": [
  {
   "cell_type": "markdown",
   "metadata": {},
   "source": [
    "## Question 1\n",
    "\n",
    "<img src=\"img/question1.png\" width=\"500\">"
   ]
  },
  {
   "cell_type": "markdown",
   "metadata": {},
   "source": [
    "*Dans la section Bilans Alimentaires, seule l'année 2013 est disponible.*"
   ]
  },
  {
   "cell_type": "code",
   "execution_count": 16,
   "metadata": {},
   "outputs": [
    {
     "data": {
      "text/html": [
       "<div>\n",
       "<style scoped>\n",
       "    .dataframe tbody tr th:only-of-type {\n",
       "        vertical-align: middle;\n",
       "    }\n",
       "\n",
       "    .dataframe tbody tr th {\n",
       "        vertical-align: top;\n",
       "    }\n",
       "\n",
       "    .dataframe thead th {\n",
       "        text-align: right;\n",
       "    }\n",
       "</style>\n",
       "<table border=\"1\" class=\"dataframe\">\n",
       "  <thead>\n",
       "    <tr style=\"text-align: right;\">\n",
       "      <th></th>\n",
       "      <th>Code Domaine</th>\n",
       "      <th>Domaine</th>\n",
       "      <th>Code Pays</th>\n",
       "      <th>Pays</th>\n",
       "      <th>Code Élément</th>\n",
       "      <th>Élément</th>\n",
       "      <th>Code Produit</th>\n",
       "      <th>Produit</th>\n",
       "      <th>Code Année</th>\n",
       "      <th>Année</th>\n",
       "      <th>Unité</th>\n",
       "      <th>Valeur</th>\n",
       "      <th>Symbole</th>\n",
       "      <th>Description du Symbole</th>\n",
       "    </tr>\n",
       "  </thead>\n",
       "  <tbody>\n",
       "    <tr>\n",
       "      <th>0</th>\n",
       "      <td>FBS</td>\n",
       "      <td>Bilans Alimentaires</td>\n",
       "      <td>2</td>\n",
       "      <td>Afghanistan</td>\n",
       "      <td>511</td>\n",
       "      <td>Population totale</td>\n",
       "      <td>2501</td>\n",
       "      <td>Population</td>\n",
       "      <td>2013</td>\n",
       "      <td>2013</td>\n",
       "      <td>1000 personnes</td>\n",
       "      <td>30552</td>\n",
       "      <td>NaN</td>\n",
       "      <td>Donnée officielle</td>\n",
       "    </tr>\n",
       "    <tr>\n",
       "      <th>1</th>\n",
       "      <td>FBS</td>\n",
       "      <td>Bilans Alimentaires</td>\n",
       "      <td>202</td>\n",
       "      <td>Afrique du Sud</td>\n",
       "      <td>511</td>\n",
       "      <td>Population totale</td>\n",
       "      <td>2501</td>\n",
       "      <td>Population</td>\n",
       "      <td>2013</td>\n",
       "      <td>2013</td>\n",
       "      <td>1000 personnes</td>\n",
       "      <td>52776</td>\n",
       "      <td>NaN</td>\n",
       "      <td>Donnée officielle</td>\n",
       "    </tr>\n",
       "    <tr>\n",
       "      <th>2</th>\n",
       "      <td>FBS</td>\n",
       "      <td>Bilans Alimentaires</td>\n",
       "      <td>3</td>\n",
       "      <td>Albanie</td>\n",
       "      <td>511</td>\n",
       "      <td>Population totale</td>\n",
       "      <td>2501</td>\n",
       "      <td>Population</td>\n",
       "      <td>2013</td>\n",
       "      <td>2013</td>\n",
       "      <td>1000 personnes</td>\n",
       "      <td>3173</td>\n",
       "      <td>NaN</td>\n",
       "      <td>Donnée officielle</td>\n",
       "    </tr>\n",
       "    <tr>\n",
       "      <th>3</th>\n",
       "      <td>FBS</td>\n",
       "      <td>Bilans Alimentaires</td>\n",
       "      <td>4</td>\n",
       "      <td>Algérie</td>\n",
       "      <td>511</td>\n",
       "      <td>Population totale</td>\n",
       "      <td>2501</td>\n",
       "      <td>Population</td>\n",
       "      <td>2013</td>\n",
       "      <td>2013</td>\n",
       "      <td>1000 personnes</td>\n",
       "      <td>39208</td>\n",
       "      <td>NaN</td>\n",
       "      <td>Donnée officielle</td>\n",
       "    </tr>\n",
       "    <tr>\n",
       "      <th>4</th>\n",
       "      <td>FBS</td>\n",
       "      <td>Bilans Alimentaires</td>\n",
       "      <td>79</td>\n",
       "      <td>Allemagne</td>\n",
       "      <td>511</td>\n",
       "      <td>Population totale</td>\n",
       "      <td>2501</td>\n",
       "      <td>Population</td>\n",
       "      <td>2013</td>\n",
       "      <td>2013</td>\n",
       "      <td>1000 personnes</td>\n",
       "      <td>82727</td>\n",
       "      <td>NaN</td>\n",
       "      <td>Donnée officielle</td>\n",
       "    </tr>\n",
       "  </tbody>\n",
       "</table>\n",
       "</div>"
      ],
      "text/plain": [
       "  Code Domaine              Domaine  Code Pays            Pays  Code Élément  \\\n",
       "0          FBS  Bilans Alimentaires          2     Afghanistan           511   \n",
       "1          FBS  Bilans Alimentaires        202  Afrique du Sud           511   \n",
       "2          FBS  Bilans Alimentaires          3         Albanie           511   \n",
       "3          FBS  Bilans Alimentaires          4         Algérie           511   \n",
       "4          FBS  Bilans Alimentaires         79       Allemagne           511   \n",
       "\n",
       "             Élément  Code Produit     Produit  Code Année  Année  \\\n",
       "0  Population totale          2501  Population        2013   2013   \n",
       "1  Population totale          2501  Population        2013   2013   \n",
       "2  Population totale          2501  Population        2013   2013   \n",
       "3  Population totale          2501  Population        2013   2013   \n",
       "4  Population totale          2501  Population        2013   2013   \n",
       "\n",
       "            Unité  Valeur Symbole Description du Symbole  \n",
       "0  1000 personnes   30552     NaN      Donnée officielle  \n",
       "1  1000 personnes   52776     NaN      Donnée officielle  \n",
       "2  1000 personnes    3173     NaN      Donnée officielle  \n",
       "3  1000 personnes   39208     NaN      Donnée officielle  \n",
       "4  1000 personnes   82727     NaN      Donnée officielle  "
      ]
     },
     "execution_count": 16,
     "metadata": {},
     "output_type": "execute_result"
    }
   ],
   "source": [
    "import numpy as np\n",
    "import pandas as pd\n",
    "\n",
    "df = pd.read_csv(\"data/FAOSTAT_population_5-7-2019.csv\")\n",
    "df.head()\n"
   ]
  },
  {
   "cell_type": "code",
   "execution_count": 17,
   "metadata": {},
   "outputs": [
    {
     "data": {
      "text/plain": [
       "['code_domaine',\n",
       " 'domaine',\n",
       " 'code_pays',\n",
       " 'pays',\n",
       " 'code_element',\n",
       " 'element',\n",
       " 'code_produit',\n",
       " 'produit',\n",
       " 'code_annee',\n",
       " 'annee',\n",
       " 'unite',\n",
       " 'valeur',\n",
       " 'symbole',\n",
       " 'description_du_symbole']"
      ]
     },
     "execution_count": 17,
     "metadata": {},
     "output_type": "execute_result"
    }
   ],
   "source": [
    "df.columns = df.columns.str.strip().str.lower().str.replace(' ', '_').str.replace('é', 'e')\n",
    "df.columns.tolist()"
   ]
  },
  {
   "cell_type": "code",
   "execution_count": 18,
   "metadata": {},
   "outputs": [
    {
     "data": {
      "text/plain": [
       "(175, 14)"
      ]
     },
     "execution_count": 18,
     "metadata": {},
     "output_type": "execute_result"
    }
   ],
   "source": [
    "# Début de l'exploration du fichier pour la recherche d'anomalies\n",
    "df.shape"
   ]
  },
  {
   "cell_type": "code",
   "execution_count": 19,
   "metadata": {},
   "outputs": [
    {
     "data": {
      "text/plain": [
       "0"
      ]
     },
     "execution_count": 19,
     "metadata": {},
     "output_type": "execute_result"
    }
   ],
   "source": [
    "# recherche de lignes dupliquées\n",
    "df.duplicated().sum()"
   ]
  },
  {
   "cell_type": "code",
   "execution_count": 20,
   "metadata": {},
   "outputs": [
    {
     "name": "stdout",
     "output_type": "stream",
     "text": [
      "<class 'pandas.core.frame.DataFrame'>\n",
      "RangeIndex: 175 entries, 0 to 174\n",
      "Data columns (total 14 columns):\n",
      "code_domaine              175 non-null object\n",
      "domaine                   175 non-null object\n",
      "code_pays                 175 non-null int64\n",
      "pays                      175 non-null object\n",
      "code_element              175 non-null int64\n",
      "element                   175 non-null object\n",
      "code_produit              175 non-null int64\n",
      "produit                   175 non-null object\n",
      "code_annee                175 non-null int64\n",
      "annee                     175 non-null int64\n",
      "unite                     175 non-null object\n",
      "valeur                    175 non-null int64\n",
      "symbole                   1 non-null object\n",
      "description_du_symbole    175 non-null object\n",
      "dtypes: int64(6), object(8)\n",
      "memory usage: 107.0 KB\n"
     ]
    }
   ],
   "source": [
    "# Afficher le nombre de valeurs et le type par colonnes\n",
    "df.info(memory_usage='deep')"
   ]
  },
  {
   "cell_type": "code",
   "execution_count": 21,
   "metadata": {},
   "outputs": [
    {
     "name": "stdout",
     "output_type": "stream",
     "text": [
      "[nan 'A']\n",
      "['Donnée officielle'\n",
      " 'Agrégat, peut inclure des données officielles, semi-officielles, estimées ou calculées']\n"
     ]
    }
   ],
   "source": [
    "# Si symbole comporte 1 valeur non nulle sur 175, quelles sont les valeurs uniques de 'Description du Symbole' ?\n",
    "print (df.symbole.unique())\n",
    "print (df.description_du_symbole.unique())"
   ]
  },
  {
   "cell_type": "code",
   "execution_count": 22,
   "metadata": {},
   "outputs": [
    {
     "data": {
      "text/html": [
       "<div>\n",
       "<style scoped>\n",
       "    .dataframe tbody tr th:only-of-type {\n",
       "        vertical-align: middle;\n",
       "    }\n",
       "\n",
       "    .dataframe tbody tr th {\n",
       "        vertical-align: top;\n",
       "    }\n",
       "\n",
       "    .dataframe thead th {\n",
       "        text-align: right;\n",
       "    }\n",
       "</style>\n",
       "<table border=\"1\" class=\"dataframe\">\n",
       "  <thead>\n",
       "    <tr style=\"text-align: right;\">\n",
       "      <th></th>\n",
       "      <th>code_domaine</th>\n",
       "      <th>domaine</th>\n",
       "      <th>code_pays</th>\n",
       "      <th>pays</th>\n",
       "      <th>code_element</th>\n",
       "      <th>element</th>\n",
       "      <th>code_produit</th>\n",
       "      <th>produit</th>\n",
       "      <th>code_annee</th>\n",
       "      <th>annee</th>\n",
       "      <th>unite</th>\n",
       "      <th>valeur</th>\n",
       "      <th>symbole</th>\n",
       "      <th>description_du_symbole</th>\n",
       "    </tr>\n",
       "  </thead>\n",
       "  <tbody>\n",
       "    <tr>\n",
       "      <th>174</th>\n",
       "      <td>FBS</td>\n",
       "      <td>Bilans Alimentaires</td>\n",
       "      <td>351</td>\n",
       "      <td>Chine</td>\n",
       "      <td>511</td>\n",
       "      <td>Population totale</td>\n",
       "      <td>2501</td>\n",
       "      <td>Population</td>\n",
       "      <td>2013</td>\n",
       "      <td>2013</td>\n",
       "      <td>1000 personnes</td>\n",
       "      <td>1416667</td>\n",
       "      <td>A</td>\n",
       "      <td>Agrégat, peut inclure des données officielles,...</td>\n",
       "    </tr>\n",
       "  </tbody>\n",
       "</table>\n",
       "</div>"
      ],
      "text/plain": [
       "    code_domaine              domaine  code_pays   pays  code_element  \\\n",
       "174          FBS  Bilans Alimentaires        351  Chine           511   \n",
       "\n",
       "               element  code_produit     produit  code_annee  annee  \\\n",
       "174  Population totale          2501  Population        2013   2013   \n",
       "\n",
       "              unite   valeur symbole  \\\n",
       "174  1000 personnes  1416667       A   \n",
       "\n",
       "                                description_du_symbole  \n",
       "174  Agrégat, peut inclure des données officielles,...  "
      ]
     },
     "execution_count": 22,
     "metadata": {},
     "output_type": "execute_result"
    }
   ],
   "source": [
    "# Quel est le pays concerné ?\n",
    "df[df.description_du_symbole.str.contains('Agrégat, peut inclure des données officielles, semi-officielles, estimées ou calculées')]"
   ]
  },
  {
   "cell_type": "code",
   "execution_count": 23,
   "metadata": {},
   "outputs": [
    {
     "data": {
      "text/html": [
       "<div>\n",
       "<style scoped>\n",
       "    .dataframe tbody tr th:only-of-type {\n",
       "        vertical-align: middle;\n",
       "    }\n",
       "\n",
       "    .dataframe tbody tr th {\n",
       "        vertical-align: top;\n",
       "    }\n",
       "\n",
       "    .dataframe thead th {\n",
       "        text-align: right;\n",
       "    }\n",
       "</style>\n",
       "<table border=\"1\" class=\"dataframe\">\n",
       "  <thead>\n",
       "    <tr style=\"text-align: right;\">\n",
       "      <th></th>\n",
       "      <th>code_domaine</th>\n",
       "      <th>domaine</th>\n",
       "      <th>code_pays</th>\n",
       "      <th>pays</th>\n",
       "      <th>code_element</th>\n",
       "      <th>element</th>\n",
       "      <th>code_produit</th>\n",
       "      <th>produit</th>\n",
       "      <th>code_annee</th>\n",
       "      <th>annee</th>\n",
       "      <th>unite</th>\n",
       "      <th>valeur</th>\n",
       "      <th>symbole</th>\n",
       "      <th>description_du_symbole</th>\n",
       "    </tr>\n",
       "  </thead>\n",
       "  <tbody>\n",
       "    <tr>\n",
       "      <th>33</th>\n",
       "      <td>FBS</td>\n",
       "      <td>Bilans Alimentaires</td>\n",
       "      <td>96</td>\n",
       "      <td>Chine - RAS de Hong-Kong</td>\n",
       "      <td>511</td>\n",
       "      <td>Population totale</td>\n",
       "      <td>2501</td>\n",
       "      <td>Population</td>\n",
       "      <td>2013</td>\n",
       "      <td>2013</td>\n",
       "      <td>1000 personnes</td>\n",
       "      <td>7204</td>\n",
       "      <td>NaN</td>\n",
       "      <td>Donnée officielle</td>\n",
       "    </tr>\n",
       "    <tr>\n",
       "      <th>34</th>\n",
       "      <td>FBS</td>\n",
       "      <td>Bilans Alimentaires</td>\n",
       "      <td>128</td>\n",
       "      <td>Chine - RAS de Macao</td>\n",
       "      <td>511</td>\n",
       "      <td>Population totale</td>\n",
       "      <td>2501</td>\n",
       "      <td>Population</td>\n",
       "      <td>2013</td>\n",
       "      <td>2013</td>\n",
       "      <td>1000 personnes</td>\n",
       "      <td>566</td>\n",
       "      <td>NaN</td>\n",
       "      <td>Donnée officielle</td>\n",
       "    </tr>\n",
       "    <tr>\n",
       "      <th>35</th>\n",
       "      <td>FBS</td>\n",
       "      <td>Bilans Alimentaires</td>\n",
       "      <td>41</td>\n",
       "      <td>Chine, continentale</td>\n",
       "      <td>511</td>\n",
       "      <td>Population totale</td>\n",
       "      <td>2501</td>\n",
       "      <td>Population</td>\n",
       "      <td>2013</td>\n",
       "      <td>2013</td>\n",
       "      <td>1000 personnes</td>\n",
       "      <td>1385567</td>\n",
       "      <td>NaN</td>\n",
       "      <td>Donnée officielle</td>\n",
       "    </tr>\n",
       "    <tr>\n",
       "      <th>36</th>\n",
       "      <td>FBS</td>\n",
       "      <td>Bilans Alimentaires</td>\n",
       "      <td>214</td>\n",
       "      <td>Chine, Taiwan Province de</td>\n",
       "      <td>511</td>\n",
       "      <td>Population totale</td>\n",
       "      <td>2501</td>\n",
       "      <td>Population</td>\n",
       "      <td>2013</td>\n",
       "      <td>2013</td>\n",
       "      <td>1000 personnes</td>\n",
       "      <td>23330</td>\n",
       "      <td>NaN</td>\n",
       "      <td>Donnée officielle</td>\n",
       "    </tr>\n",
       "    <tr>\n",
       "      <th>174</th>\n",
       "      <td>FBS</td>\n",
       "      <td>Bilans Alimentaires</td>\n",
       "      <td>351</td>\n",
       "      <td>Chine</td>\n",
       "      <td>511</td>\n",
       "      <td>Population totale</td>\n",
       "      <td>2501</td>\n",
       "      <td>Population</td>\n",
       "      <td>2013</td>\n",
       "      <td>2013</td>\n",
       "      <td>1000 personnes</td>\n",
       "      <td>1416667</td>\n",
       "      <td>A</td>\n",
       "      <td>Agrégat, peut inclure des données officielles,...</td>\n",
       "    </tr>\n",
       "  </tbody>\n",
       "</table>\n",
       "</div>"
      ],
      "text/plain": [
       "    code_domaine              domaine  code_pays                       pays  \\\n",
       "33           FBS  Bilans Alimentaires         96   Chine - RAS de Hong-Kong   \n",
       "34           FBS  Bilans Alimentaires        128       Chine - RAS de Macao   \n",
       "35           FBS  Bilans Alimentaires         41        Chine, continentale   \n",
       "36           FBS  Bilans Alimentaires        214  Chine, Taiwan Province de   \n",
       "174          FBS  Bilans Alimentaires        351                      Chine   \n",
       "\n",
       "     code_element            element  code_produit     produit  code_annee  \\\n",
       "33            511  Population totale          2501  Population        2013   \n",
       "34            511  Population totale          2501  Population        2013   \n",
       "35            511  Population totale          2501  Population        2013   \n",
       "36            511  Population totale          2501  Population        2013   \n",
       "174           511  Population totale          2501  Population        2013   \n",
       "\n",
       "     annee           unite   valeur symbole  \\\n",
       "33    2013  1000 personnes     7204     NaN   \n",
       "34    2013  1000 personnes      566     NaN   \n",
       "35    2013  1000 personnes  1385567     NaN   \n",
       "36    2013  1000 personnes    23330     NaN   \n",
       "174   2013  1000 personnes  1416667       A   \n",
       "\n",
       "                                description_du_symbole  \n",
       "33                                   Donnée officielle  \n",
       "34                                   Donnée officielle  \n",
       "35                                   Donnée officielle  \n",
       "36                                   Donnée officielle  \n",
       "174  Agrégat, peut inclure des données officielles,...  "
      ]
     },
     "execution_count": 23,
     "metadata": {},
     "output_type": "execute_result"
    }
   ],
   "source": [
    "# Est ce un agrégat d'autres données du dataset ? \n",
    "df[df.pays.str.contains('Chine')]"
   ]
  },
  {
   "cell_type": "code",
   "execution_count": 24,
   "metadata": {},
   "outputs": [
    {
     "name": "stdout",
     "output_type": "stream",
     "text": [
      "la somme des entités 'Chine,...' : valeur    1416667\n",
      "dtype: int64\n",
      "la valeur de 'Chine' : valeur    1416667\n",
      "Name: 174, dtype: object\n"
     ]
    }
   ],
   "source": [
    "# on vérifie en effectuant la somme et en comparant :\n",
    "print(\"la somme des entités 'Chine,...' :\", (df.loc[33:36, ['valeur']].sum()))\n",
    "print(\"la valeur de 'Chine' :\", (df.loc[174, ['valeur']]))"
   ]
  },
  {
   "cell_type": "code",
   "execution_count": 25,
   "metadata": {},
   "outputs": [],
   "source": [
    "# conserver la chine"
   ]
  },
  {
   "cell_type": "code",
   "execution_count": 26,
   "metadata": {},
   "outputs": [],
   "source": [
    "# on va donc supprimer la ligne 'Chine' avant d'effectuer le calcul de la population totale :\n",
    "df.drop([174], axis=0, inplace=True)"
   ]
  },
  {
   "cell_type": "code",
   "execution_count": 27,
   "metadata": {},
   "outputs": [],
   "source": [
    "total = (df.valeur.sum())*1000"
   ]
  },
  {
   "cell_type": "code",
   "execution_count": 28,
   "metadata": {},
   "outputs": [
    {
     "name": "stdout",
     "output_type": "stream",
     "text": [
      "La population totale en 2013 s'élève à : 6,997,326,000\n"
     ]
    }
   ],
   "source": [
    "print(\"La population totale en 2013 s'élève à :\", '{0:,d}'.format(total))"
   ]
  },
  {
   "cell_type": "code",
   "execution_count": null,
   "metadata": {},
   "outputs": [],
   "source": []
  }
 ],
 "metadata": {
  "hide_input": false,
  "kernelspec": {
   "display_name": "Python 3",
   "language": "python",
   "name": "python3"
  },
  "language_info": {
   "codemirror_mode": {
    "name": "ipython",
    "version": 3
   },
   "file_extension": ".py",
   "mimetype": "text/x-python",
   "name": "python",
   "nbconvert_exporter": "python",
   "pygments_lexer": "ipython3",
   "version": "3.7.1"
  },
  "toc": {
   "base_numbering": 1,
   "nav_menu": {
    "height": "94px",
    "width": "179px"
   },
   "number_sections": true,
   "sideBar": false,
   "skip_h1_title": false,
   "title_cell": "Table of Contents",
   "title_sidebar": "Contents",
   "toc_cell": false,
   "toc_position": {
    "height": "calc(100% - 180px)",
    "left": "10px",
    "top": "150px",
    "width": "219.188px"
   },
   "toc_section_display": true,
   "toc_window_display": true
  },
  "varInspector": {
   "cols": {
    "lenName": 16,
    "lenType": 16,
    "lenVar": 40
   },
   "kernels_config": {
    "python": {
     "delete_cmd_postfix": "",
     "delete_cmd_prefix": "del ",
     "library": "var_list.py",
     "varRefreshCmd": "print(var_dic_list())"
    },
    "r": {
     "delete_cmd_postfix": ") ",
     "delete_cmd_prefix": "rm(",
     "library": "var_list.r",
     "varRefreshCmd": "cat(var_dic_list()) "
    }
   },
   "types_to_exclude": [
    "module",
    "function",
    "builtin_function_or_method",
    "instance",
    "_Feature"
   ],
   "window_display": false
  }
 },
 "nbformat": 4,
 "nbformat_minor": 2
}
